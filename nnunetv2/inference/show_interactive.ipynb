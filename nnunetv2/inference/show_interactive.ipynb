{
 "cells": [
  {
   "cell_type": "code",
   "execution_count": null,
   "id": "ce317034",
   "metadata": {},
   "outputs": [
    {
     "name": "stdout",
     "output_type": "stream",
     "text": [
      "加载完成，图像尺寸：(320, 320, 130)\n"
     ]
    },
    {
     "data": {
      "application/vnd.jupyter.widget-view+json": {
       "model_id": "cbf8ef44763645078b2998c06d35d90b",
       "version_major": 2,
       "version_minor": 0
      },
      "text/plain": [
       "interactive(children=(IntSlider(value=65, description='slice_idx', max=129), Output()), _dom_classes=('widget-…"
      ]
     },
     "metadata": {},
     "output_type": "display_data"
    },
    {
     "data": {
      "text/plain": [
       "<function __main__.show_slice(slice_idx)>"
      ]
     },
     "execution_count": 2,
     "metadata": {},
     "output_type": "execute_result"
    }
   ],
   "source": [
    "import nibabel as nib\n",
    "import numpy as np\n",
    "import matplotlib.pyplot as pltu\n",
    "import ipywidgets as widgets\n",
    "from IPython.display import display, clear_output\n",
    "import matplotlib.pyplot as plt\n",
    "\n",
    "\n",
    "# 修改为你的路径\n",
    "img_path = r'C:\\Users\\chen1myn\\Documents\\GitHub\\nnUNet\\DATASET\\nnUNet_raw\\Dataset002_Heart\\imagesTr\\la_003_0000.nii.gz'\n",
    "pred_path = r'C:\\Users\\chen1myn\\Documents\\nnUNet_output\\la_003.nii.gz'\n",
    "\n",
    "# 加载数据\n",
    "img = nib.load(img_path).get_fdata()\n",
    "pred = nib.load(pred_path).get_fdata()\n",
    "\n",
    "# 确保图像和预测一致\n",
    "assert img.shape == pred.shape, f\"尺寸不一致: 原图{img.shape}, 预测{pred.shape}\"\n",
    "\n",
    "print(f\"加载完成，图像尺寸：{img.shape}\")\n",
    "\n",
    "# 显示函数\n",
    "def show_slice(slice_idx):\n",
    "    clear_output(wait=True)\n",
    "    print(f\"显示第 {slice_idx}/{img.shape[2]-1} 层\")\n",
    "\n",
    "    fig, axes = plt.subplots(1, 3, figsize=(15, 5))\n",
    "\n",
    "    axes[0].imshow(img[:, :, slice_idx], cmap='gray')\n",
    "    axes[0].set_title(f\"Original Slice {slice_idx}\")\n",
    "    axes[0].axis('off')\n",
    "\n",
    "    axes[1].imshow(pred[:, :, slice_idx], cmap='jet')\n",
    "    axes[1].set_title('Prediction Mask')\n",
    "    axes[1].axis('off')\n",
    "\n",
    "    axes[2].imshow(img[:, :, slice_idx], cmap='gray')\n",
    "    axes[2].imshow(pred[:, :, slice_idx], cmap='jet', alpha=0.4)\n",
    "    axes[2].set_title('Overlay')\n",
    "    axes[2].axis('off')\n",
    "\n",
    "    plt.tight_layout()\n",
    "    plt.show()\n",
    "\n",
    "# 创建滑条\n",
    "slider = widgets.IntSlider(min=0, max=img.shape[2]-1, step=1, value=img.shape[2]//2)\n",
    "widgets.interact(show_slice, slice_idx=slider)\n"
   ]
  }
 ],
 "metadata": {
  "kernelspec": {
   "display_name": "Python 3",
   "language": "python",
   "name": "python3"
  },
  "language_info": {
   "codemirror_mode": {
    "name": "ipython",
    "version": 3
   },
   "file_extension": ".py",
   "mimetype": "text/x-python",
   "name": "python",
   "nbconvert_exporter": "python",
   "pygments_lexer": "ipython3",
   "version": "3.11.13"
  }
 },
 "nbformat": 4,
 "nbformat_minor": 5
}
