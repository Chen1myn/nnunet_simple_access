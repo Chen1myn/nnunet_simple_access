{
 "cells": [
  {
   "cell_type": "code",
   "execution_count": 1,
   "id": "65d94679",
   "metadata": {},
   "outputs": [
    {
     "name": "stdout",
     "output_type": "stream",
     "text": [
      "可选 Case 列表： ['la_001_0000.nii.gz', 'la_002_0000.nii.gz', 'la_003_0000.nii.gz', 'la_004_0000.nii.gz', 'la_005_0000.nii.gz', 'la_006_0000.nii.gz', 'la_007_0000.nii.gz', 'la_008_0000.nii.gz', 'la_009_0000.nii.gz', 'la_010_0000.nii.gz', 'la_011_0000.nii.gz', 'la_012_0000.nii.gz', 'la_013_0000.nii.gz', 'la_014_0000.nii.gz', 'la_015_0000.nii.gz', 'la_016_0000.nii.gz', 'la_017_0000.nii.gz', 'la_018_0000.nii.gz', 'la_019_0000.nii.gz', 'la_020_0000.nii.gz', 'la_021_0000.nii.gz', 'la_022_0000.nii.gz', 'la_023_0000.nii.gz', 'la_024_0000.nii.gz', 'la_025_0000.nii.gz', 'la_026_0000.nii.gz', 'la_027_0000.nii.gz', 'la_028_0000.nii.gz', 'la_029_0000.nii.gz', 'la_030_0000.nii.gz']\n"
     ]
    },
    {
     "data": {
      "application/vnd.jupyter.widget-view+json": {
       "model_id": "576f44b66d91409a9f307771ac4239e0",
       "version_major": 2,
       "version_minor": 0
      },
      "text/plain": [
       "interactive(children=(Dropdown(description='Case:', options=('la_001_0000.nii.gz', 'la_002_0000.nii.gz', 'la_0…"
      ]
     },
     "metadata": {},
     "output_type": "display_data"
    },
    {
     "data": {
      "text/plain": [
       "<function __main__.view_case(fname: str, z: int)>"
      ]
     },
     "execution_count": 1,
     "metadata": {},
     "output_type": "execute_result"
    }
   ],
   "source": [
    "# ── 1. 忽略警告 & 导入必要库 ─────────────────────────────────────────\n",
    "import os\n",
    "import json\n",
    "import warnings\n",
    "warnings.filterwarnings(\"ignore\")\n",
    "\n",
    "import nibabel as nib\n",
    "import matplotlib.pyplot as plt\n",
    "from ipywidgets import interact, IntSlider, Dropdown\n",
    "\n",
    "# ── 2. 读取 config.json ────────────────────────────────────────────\n",
    "cfg_path = os.path.join(os.getcwd(), \"config.json\")\n",
    "if not os.path.isfile(cfg_path):\n",
    "    raise FileNotFoundError(f\"找不到配置文件: {cfg_path}\")\n",
    "cfg = json.load(open(cfg_path, \"r\"))\n",
    "\n",
    "nnUNet_raw = cfg[\"nnUNet_raw\"]\n",
    "datasetid  = cfg[\"datasetid\"]\n",
    "NAME       = cfg[\"NAME\"]\n",
    "loc        = f\"Dataset{int(datasetid):03d}_{NAME}\"\n",
    "\n",
    "# ── 3. 准备文件夹并收集案例 ─────────────────────────────────────────\n",
    "imagesTs_dir    = os.path.join(nnUNet_raw, loc, \"imagesTs\")\n",
    "pred_lowres_dir = os.path.join(nnUNet_raw, loc, \"imagesTs_predlowres\")\n",
    "\n",
    "if not os.path.isdir(imagesTs_dir):\n",
    "    raise FileNotFoundError(f\"找不到测试集目录: {imagesTs_dir}\")\n",
    "# 确保分割结果目录存在\n",
    "os.makedirs(pred_lowres_dir, exist_ok=True)\n",
    "\n",
    "# 收集所有原图文件：*_0000.nii.gz\n",
    "files = sorted(f for f in os.listdir(imagesTs_dir) if f.endswith(\"_0000.nii.gz\"))\n",
    "if not files:\n",
    "    raise RuntimeError(f\"{imagesTs_dir} 中没有找到任何 *_0000.nii.gz\")\n",
    "\n",
    "print(\"可选 Case 列表：\", files)\n",
    "\n",
    "# ── 4. 加载单个案例的函数 ─────────────────────────────────────────\n",
    "def load_case(fname: str):\n",
    "    \"\"\"\n",
    "    返回 (vol, seg)：\n",
    "      - vol: 原始影像的数据数组\n",
    "      - seg: 分割结果的数据数组，若找不到则返回 None\n",
    "    \"\"\"\n",
    "    # 原图路径\n",
    "    img_path = os.path.join(imagesTs_dir, fname)\n",
    "\n",
    "    # 分割结果可能叫 la_001_0000.nii.gz 或 la_001.nii.gz\n",
    "    seg_fname1 = fname                                # e.g. la_001_0000.nii.gz\n",
    "    seg_fname2 = fname.replace(\"_0000.nii.gz\", \".nii.gz\")  # e.g. la_001.nii.gz\n",
    "    # 优先用带 _0000 后缀的\n",
    "    if os.path.isfile(os.path.join(pred_lowres_dir, seg_fname1)):\n",
    "        seg_path = os.path.join(pred_lowres_dir, seg_fname1)\n",
    "    else:\n",
    "        seg_path = os.path.join(pred_lowres_dir, seg_fname2)\n",
    "\n",
    "    # 载入数据\n",
    "    vol = nib.load(img_path).get_fdata()\n",
    "    seg = None\n",
    "    if os.path.isfile(seg_path):\n",
    "        seg = nib.load(seg_path).get_fdata()\n",
    "\n",
    "    return vol, seg\n",
    "\n",
    "# ── 5. 一次画三张图的函数 ─────────────────────────────────────────\n",
    "def view_case(fname: str, z: int):\n",
    "    vol, seg = load_case(fname)\n",
    "    fig, axs = plt.subplots(1, 3, figsize=(15, 5))\n",
    "\n",
    "    # 子图 1：原始切片\n",
    "    axs[0].imshow(vol[:, :, z].T, cmap=\"gray\", origin=\"lower\")\n",
    "    axs[0].set_title(\"原始影像\")\n",
    "    axs[0].axis(\"off\")\n",
    "\n",
    "    # 子图 2：分割掩码\n",
    "    if seg is not None:\n",
    "        mask = (seg[:, :, z] > 0.5).T\n",
    "        axs[1].imshow(mask, cmap=\"gray\", origin=\"lower\")\n",
    "    else:\n",
    "        axs[1].text(0.5, 0.5, \"未找到分割\", ha=\"center\", va=\"center\", fontsize=14)\n",
    "    axs[1].set_title(\"分割掩码\")\n",
    "    axs[1].axis(\"off\")\n",
    "\n",
    "    # 子图 3：叠加对比\n",
    "    axs[2].imshow(vol[:, :, z].T, cmap=\"gray\", origin=\"lower\")\n",
    "    if seg is not None:\n",
    "        axs[2].contour(mask, levels=[0.5], colors=\"r\", linewidths=1)\n",
    "    axs[2].set_title(\"叠加对比\")\n",
    "    axs[2].axis(\"off\")\n",
    "\n",
    "    plt.suptitle(f\"{fname}  —  Slice {z}\", fontsize=16)\n",
    "    plt.tight_layout(rect=[0, 0, 1, 0.95])\n",
    "    plt.show()\n",
    "\n",
    "# ── 6. 交互控件 ───────────────────────────────────────────────────\n",
    "# 先载入第一个案例，得到最大切片数\n",
    "vol0, _ = load_case(files[0])\n",
    "max_z = vol0.shape[2] - 1\n",
    "\n",
    "interact(\n",
    "    view_case,\n",
    "    fname=Dropdown(options=files, value=files[0], description=\"Case:\"),\n",
    "    z=IntSlider(min=0, max=max_z, step=1, value=max_z // 2, description=\"Slice:\")\n",
    ")\n"
   ]
  },
  {
   "cell_type": "code",
   "execution_count": null,
   "id": "58a23d32-218e-48fb-afd0-97fed6953de0",
   "metadata": {},
   "outputs": [],
   "source": []
  }
 ],
 "metadata": {
  "kernelspec": {
   "display_name": "Python 3.11 (conda)",
   "language": "python",
   "name": "py311_conda"
  },
  "language_info": {
   "codemirror_mode": {
    "name": "ipython",
    "version": 3
   },
   "file_extension": ".py",
   "mimetype": "text/x-python",
   "name": "python",
   "nbconvert_exporter": "python",
   "pygments_lexer": "ipython3",
   "version": "3.11.13"
  }
 },
 "nbformat": 4,
 "nbformat_minor": 5
}
